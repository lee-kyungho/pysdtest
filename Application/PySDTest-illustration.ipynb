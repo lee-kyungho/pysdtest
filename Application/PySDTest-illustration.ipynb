{
 "cells": [
  {
   "cell_type": "code",
   "execution_count": 1,
   "id": "51d6350f",
   "metadata": {},
   "outputs": [],
   "source": [
    "import pysdtest\n",
    "import numpy as np"
   ]
  },
  {
   "cell_type": "code",
   "execution_count": 2,
   "id": "54658d14",
   "metadata": {},
   "outputs": [],
   "source": [
    "# Parameters\n",
    "mu1 , mu2 , sigma1 , sigma2 = 0, 0 , 1, 1\n",
    "\n",
    "# Sample size\n",
    "n = 500\n",
    "\n",
    "# Set the seed\n",
    "np.random.seed(0)\n",
    "\n",
    "# Random samples from normal distributions\n",
    "sample1 = mu1 + sigma1 * np.random.randn(n)\n",
    "sample2 = mu2 + sigma2 * np.random.randn(n)"
   ]
  },
  {
   "cell_type": "code",
   "execution_count": 3,
   "id": "a3d54d73",
   "metadata": {
    "scrolled": false
   },
   "outputs": [
    {
     "name": "stdout",
     "output_type": "stream",
     "text": [
      "\n",
      "#--- Testing for Stochastic Dominance  -----#\n",
      "\n",
      "* H0 : sample1 first order SD sample2\n",
      "\n",
      "#-------------------------------------------#\n",
      "\n",
      "*** Test Setting ***\n",
      "* Resampling method \t = bootstrap\n",
      "* SD order       \t =      1\n",
      "* # of (sample1) \t =    500 \n",
      "* # of (sample2)   \t =    500\n",
      "* # of bootstrapping \t =    200\n",
      "* # of grid points \t =    100\n",
      "\n",
      "#-------------------------------------------#\n",
      "\n",
      "*** Test Result ***\n",
      "* Test statistic \t = 0.2214\n",
      "* Significance level \t =  0.05\n",
      "* Critical-value \t = 1.2017\n",
      "* P-value        \t = 0.8600\n",
      "* Time elapsed   \t =  0.54 Sec\n"
     ]
    }
   ],
   "source": [
    "# Testing First order SD by the LFC procedure \n",
    "testing_normal =  pysdtest.test_sd(sample1, sample2, ngrid = 100, s = 1, resampling = 'bootstrap')\n",
    "testing_normal.testing()"
   ]
  },
  {
   "cell_type": "code",
   "execution_count": 5,
   "id": "06a2b5c5",
   "metadata": {
    "scrolled": true
   },
   "outputs": [
    {
     "name": "stdout",
     "output_type": "stream",
     "text": [
      "\n",
      "#--- Testing for Stochastic Dominance  -----#\n",
      "\n",
      "* H0 : sample1 first order SD sample2\n",
      "\n",
      "#-------------------------------------------#\n",
      "\n",
      "*** Test Setting ***\n",
      "* Resampling method \t = subsampling\n",
      "* SD order       \t =      1\n",
      "* # of (sample1) \t =    500 \n",
      "* # of (sample2)   \t =    500\n",
      "* # of (subsample1) \t =     40\n",
      "* # of (subsample2) \t =     40\n",
      "\n",
      "#-------------------------------------------#\n",
      "\n",
      "*** Test Result ***\n",
      "* Test statistic \t = 0.2214\n",
      "* Significance level \t =  0.20\n",
      "* Critical-value \t = 0.8944\n",
      "* P-value        \t = 0.8482\n",
      "* Time elapsed   \t =  0.11 Sec\n"
     ]
    }
   ],
   "source": [
    "# Subsampling \n",
    "testing_normal_sub =  pysdtest.test_sd(sample1, sample2, ngrid = 100, s = 1, resampling = 'subsampling', b1=40,b2=40, alpha = 0.2)\n",
    "testing_normal_sub.testing()"
   ]
  },
  {
   "cell_type": "code",
   "execution_count": 6,
   "id": "0b4096bf",
   "metadata": {},
   "outputs": [
    {
     "name": "stdout",
     "output_type": "stream",
     "text": [
      "\n",
      "#--- Testing for Stochastic Dominance  -----#\n",
      "\n",
      "* H0 : sample1 first order SD sample2\n",
      "\n",
      "#-------------------------------------------#\n",
      "\n",
      "*** Test Setting ***\n",
      "* Resampling method \t = paired_bootstrap\n",
      "* SD order       \t =      1\n",
      "* # of (sample1) \t =    500 \n",
      "* # of (sample2)   \t =    500\n",
      "* # of bootstrapping \t =    200\n",
      "* # of grid points \t =    100\n",
      "\n",
      "#-------------------------------------------#\n",
      "\n",
      "*** Test Result ***\n",
      "* Test statistic \t = 0.2214\n",
      "* Significance level \t =  0.05\n",
      "* Critical-value \t = 1.1700\n",
      "* P-value        \t = 0.8850\n",
      "* Time elapsed   \t =  0.52 Sec\n"
     ]
    }
   ],
   "source": [
    "# Paired Bootstrap\n",
    "testing_normal_pair =  pysdtest.test_sd(sample1, sample2, ngrid = 100, s = 1, resampling = 'paired_bootstrap')\n",
    "testing_normal_pair.testing()"
   ]
  },
  {
   "cell_type": "code",
   "execution_count": 7,
   "id": "9e949996",
   "metadata": {
    "scrolled": true
   },
   "outputs": [
    {
     "name": "stdout",
     "output_type": "stream",
     "text": [
      "\n",
      "#--- Testing for Stochastic Dominance  -----#\n",
      "\n",
      "* H0 : sample1 first order SD sample2\n",
      "* Contact Set Approach\n",
      "\n",
      "#-------------------------------------------#\n",
      "\n",
      "*** Test Setting ***\n",
      "* Resampling method \t = bootstrap\n",
      "* SD order       \t =      1\n",
      "* # of (sample1) \t =    500 \n",
      "* # of (sample2)   \t =    500\n",
      "* # of bootstrapping \t =    200\n",
      "* # of grid points \t =    100\n",
      "\n",
      "# Tuning parameter -------\n",
      "* c              \t = 0.7500\n",
      "\n",
      "#-------------------------------------------#\n",
      "\n",
      "*** Test Result ***\n",
      "* Test statistic \t = 0.1495\n",
      "* Significance level \t =  0.05\n",
      "* Critical-value \t = 18.9272\n",
      "* P-value        \t = 0.8850\n",
      "* Time elapsed   \t =  0.52 Sec\n"
     ]
    }
   ],
   "source": [
    "# Testing First order SD by the contact set approach\n",
    "testing_normal_contact =  pysdtest.test_sd_contact(sample1, sample2, ngrid = 100, s = 1, resampling = 'bootstrap')\n",
    "testing_normal_contact.testing()"
   ]
  },
  {
   "cell_type": "code",
   "execution_count": 8,
   "id": "3d932223",
   "metadata": {
    "scrolled": false
   },
   "outputs": [
    {
     "name": "stdout",
     "output_type": "stream",
     "text": [
      "\n",
      "#--- Testing for Stochastic Dominance  -----#\n",
      "\n",
      "* H0 : sample1 first order SD sample2\n",
      "* Selective Recentering Approach\n",
      "\n",
      "#-------------------------------------------#\n",
      "\n",
      "*** Test Setting ***\n",
      "* Resampling method \t =  bootstrap\n",
      "* SD order       \t =      1\n",
      "* # of (sample1) \t =    500 \n",
      "* # of (sample2)   \t =    500\n",
      "* # of bootstrapping \t =    200\n",
      "* # of grid points \t =    100\n",
      "\n",
      "# Tuning paremeters -------------\n",
      "* a              \t = 0.1000\n",
      "* eta            \t = 0.000001\n",
      "#-------------------------------------------#\n",
      "\n",
      "*** Test Result ***\n",
      "* Test statistic \t = 0.2214\n",
      "* Significance level \t =  0.05\n",
      "* Critical-value \t = 1.0768\n",
      "* P-value        \t = 0.8200\n",
      "* Time elapsed   \t =  0.52 Sec\n"
     ]
    }
   ],
   "source": [
    "# Testing First order SD by the selective recentering approach\n",
    "testing_normal_SR =  pysdtest.test_sd_SR(sample1, sample2, ngrid = 100, s = 1, resampling = 'bootstrap')\n",
    "testing_normal_SR.testing()"
   ]
  },
  {
   "cell_type": "code",
   "execution_count": 8,
   "id": "18b6242e",
   "metadata": {},
   "outputs": [
    {
     "name": "stdout",
     "output_type": "stream",
     "text": [
      "\n",
      "#--- Testing for Stochastic Dominance  -----#\n",
      "\n",
      "* H0 : sample1 first order SD sample2\n",
      "* Numerical Delta Method\n",
      "* KS Type Test Statistic \n",
      "\n",
      "#-------------------------------------------#\n",
      "\n",
      "*** Test Setting ***\n",
      "* Resampling method \t = bootstrap\n",
      "* SD order       \t =      1\n",
      "* # of (sample1) \t =    500 \n",
      "* # of (sample2)   \t =    500\n",
      "* # of bootstrapping \t =    200\n",
      "* # of grid points \t =    100\n",
      "\n",
      "# Tuning paremeter -------------\n",
      "* epsilon        \t = 0.8415\n",
      "\n",
      "#-------------------------------------------#\n",
      "\n",
      "*** Test Result ***\n",
      "* Test statistic \t = 3.1939\n",
      "* Significance level \t =  0.05\n",
      "* Critical-value \t = 0.9805\n",
      "* P-value        \t = 0.0000\n",
      "* Time elapsed   \t =  0.51 Sec\n"
     ]
    }
   ],
   "source": [
    "# Testing First order SD by the Numerical Delta Method (KS)\n",
    "testing_normal_NDM_L1 =  pysdtest.test_sd_NDM(sample1, sample2, ngrid = 100, s = 1, resampling = 'bootstrap', form = 'KS')\n",
    "testing_normal_NDM_L1.testing()"
   ]
  },
  {
   "cell_type": "code",
   "execution_count": 9,
   "id": "ffc1a184",
   "metadata": {},
   "outputs": [
    {
     "name": "stdout",
     "output_type": "stream",
     "text": [
      "\n",
      "#--- Testing for Stochastic Dominance  -----#\n",
      "\n",
      "* H0 : sample1 first order SD sample2\n",
      "* Numerical Delta Method\n",
      "* L1 Type Test Statistic \n",
      "\n",
      "#-------------------------------------------#\n",
      "\n",
      "*** Test Setting ***\n",
      "* Resampling method \t = bootstrap\n",
      "* SD order       \t =      1\n",
      "* # of (sample1) \t =    500 \n",
      "* # of (sample2)   \t =    500\n",
      "* # of bootstrapping \t =    200\n",
      "* # of grid points \t =    100\n",
      "\n",
      "# Tuning paremeter -------------\n",
      "* epsilon        \t = 0.8415\n",
      "\n",
      "#-------------------------------------------#\n",
      "\n",
      "*** Test Result ***\n",
      "* Test statistic \t = 119.2653\n",
      "* Significance level \t =  0.05\n",
      "* Critical-value \t = 27.0387\n",
      "* P-value        \t = 0.0000\n",
      "* Time elapsed   \t =  0.51 Sec\n"
     ]
    }
   ],
   "source": [
    "# Testing First order SD by the Numerical Delta Method (L1)\n",
    "testing_normal_NDM_L1 =  pysdtest.test_sd_NDM(sample1, sample2, ngrid = 100, s = 1, resampling = 'bootstrap', form = 'L1')\n",
    "testing_normal_NDM_L1.testing()"
   ]
  },
  {
   "cell_type": "code",
   "execution_count": 10,
   "id": "207e4d55",
   "metadata": {
    "scrolled": true
   },
   "outputs": [
    {
     "name": "stdout",
     "output_type": "stream",
     "text": [
      "\n",
      "#--- Testing for Stochastic Dominance  -----#\n",
      "\n",
      "* H0 : sample1 first order SD sample2\n",
      "* Numerical Delta Method\n",
      "* L2 Type Test Statistic \n",
      "\n",
      "#-------------------------------------------#\n",
      "\n",
      "*** Test Setting ***\n",
      "* Resampling method \t = subsampling\n",
      "* SD order       \t =      1\n",
      "* # of (sample1) \t =    500 \n",
      "* # of (sample2)   \t =    500\n",
      "* # of (subsample1) \t =     40\n",
      "* # of (subsample2) \t =     40\n",
      "\n",
      "# Tuning paremeter -------------\n",
      "* epsilon        \t = 0.8415\n",
      "\n",
      "#-------------------------------------------#\n",
      "\n",
      "*** Test Result ***\n",
      "* Test statistic \t = 249.4455\n",
      "* Significance level \t =  0.05\n",
      "* Critical-value \t = 102.5266\n",
      "* P-value        \t = 0.0000\n",
      "* Time elapsed   \t =  0.11 Sec\n"
     ]
    }
   ],
   "source": [
    "# Testing First order SD by the Numerical Delta Method (L2)\n",
    "testing_normal_NDM_L2 =  pysdtest.test_sd_NDM(sample1, sample2, form = 'L2', ngrid = 100, s = 1, resampling = 'subsampling', b1=40,b2=40)\n",
    "testing_normal_NDM_L2.testing()"
   ]
  },
  {
   "cell_type": "code",
   "execution_count": 9,
   "id": "c949a377",
   "metadata": {},
   "outputs": [],
   "source": [
    "\" Additional Features \"\n",
    "results = testing_normal.result"
   ]
  },
  {
   "cell_type": "code",
   "execution_count": 14,
   "id": "83fb3642",
   "metadata": {
    "scrolled": true
   },
   "outputs": [
    {
     "data": {
      "image/png": "[encoded data removed]",
      "text/plain": [
       "<Figure size 640x480 with 1 Axes>"
      ]
     },
     "metadata": {},
     "output_type": "display_data"
    }
   ],
   "source": [
    "testing_normal.plot_CDF(save=True, title=\"Normal distributions.png\") "
   ]
  },
  {
   "cell_type": "code",
   "execution_count": 17,
   "id": "30d8bb4b",
   "metadata": {},
   "outputs": [
    {
     "data": {
      "image/png": "[encoded data removed]",
      "text/plain": [
       "<Figure size 640x480 with 1 Axes>"
      ]
     },
     "metadata": {},
     "output_type": "display_data"
    }
   ],
   "source": [
    "# Hihger-order\n",
    "testing_normal_2 = pysdtest.test_sd(sample1, sample2, ngrid = 100, s = 2, resampling = 'bootstrap')\n",
    "testing_normal_2.plot_CDF(save=True, title=\"Normal distributions2.png\")"
   ]
  },
  {
   "cell_type": "code",
   "execution_count": null,
   "id": "c73bfc22",
   "metadata": {},
   "outputs": [],
   "source": []
  }
 ],
 "metadata": {
  "kernelspec": {
   "display_name": "Python 3 (ipykernel)",
   "language": "python",
   "name": "python3"
  },
  "language_info": {
   "codemirror_mode": {
    "name": "ipython",
    "version": 3
   },
   "file_extension": ".py",
   "mimetype": "text/x-python",
   "name": "python",
   "nbconvert_exporter": "python",
   "pygments_lexer": "ipython3",
   "version": "3.11.8"
  }
 },
 "nbformat": 4,
 "nbformat_minor": 5
}
