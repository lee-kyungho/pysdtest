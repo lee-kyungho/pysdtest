{
 "cells": [
  {
   "cell_type": "code",
   "execution_count": 19,
   "id": "7fd56679",
   "metadata": {},
   "outputs": [],
   "source": [
    "import pysdtest\n",
    "import numpy as np"
   ]
  },
  {
   "cell_type": "code",
   "execution_count": 20,
   "id": "ec8b07a4",
   "metadata": {},
   "outputs": [],
   "source": [
    "# Parameters\n",
    "mu1, mu2, mu3 = 0, 0.5, 1\n",
    "sigma1, sigma2, sigma3 = 1, 1.5, 2\n",
    "\n",
    "# Sample size\n",
    "N = 1000\n",
    "\n",
    "# set the seed\n",
    "np.random.seed(0)\n",
    "\n",
    "# Random numbers from a normal distribution\n",
    "sample1 = mu1 + sigma1 * np.random.randn(N)\n",
    "sample2 = mu2 + sigma2 * np.random.randn(N)\n",
    "sample3 = mu3 + sigma3 * np.random.randn(N)"
   ]
  },
  {
   "cell_type": "code",
   "execution_count": 21,
   "id": "bc6c300e",
   "metadata": {},
   "outputs": [],
   "source": [
    "\" Step 0: Setting Options \"\n",
    "# SD order\n",
    "s     = 1\n",
    "# Setting grid\n",
    "samples = [sample1, sample2, sample3]\n",
    "ngrid = 100\n",
    "grid  = pysdtest.set_grid(samples, ngrid)\n",
    "# Setting the Number of Bootstrapping\n",
    "nsamp = 200"
   ]
  },
  {
   "cell_type": "code",
   "execution_count": 22,
   "id": "efcdf962",
   "metadata": {},
   "outputs": [],
   "source": [
    "\" Step 1: Compute Test Statistics \"\n",
    "# Function caculating CDF\n",
    "CDF = pysdtest.CDF\n",
    "\n",
    "# Calculating D\n",
    "D_12 = CDF(sample1, grid, s) - CDF(sample2, grid, s)\n",
    "D_21 = CDF(sample2, grid, s) - CDF(sample1, grid, s)\n",
    "D_23 = CDF(sample2, grid, s) - CDF(sample3, grid, s)\n",
    "D_32 = CDF(sample3, grid, s) - CDF(sample2, grid, s)\n",
    "D_13 = CDF(sample1, grid, s) - CDF(sample3, grid, s)\n",
    "D_31 = CDF(sample3, grid, s) - CDF(sample1, grid, s)\n",
    " \n",
    "# Calculating Test Statistics (In here, Supremum-type test statistics)\n",
    "D_collection = [D_12,D_21,D_23,D_32,D_13,D_31]\n",
    "test_stat = np.sqrt(N)*np.min(np.max(D_collection,1))"
   ]
  },
  {
   "cell_type": "code",
   "execution_count": 23,
   "id": "74485c93",
   "metadata": {},
   "outputs": [],
   "source": [
    "\" Step 2: Generate Bootstrap Sample (or Subsample) \"\n",
    "# Resampling (bootstrap)\n",
    "btspsample1 = pysdtest.bootstrap(sample1, b = N, nboot = nsamp)\n",
    "btspsample2 = pysdtest.bootstrap(sample2, b = N, nboot = nsamp)\n",
    "btspsample3 = pysdtest.bootstrap(sample3, b = N, nboot = nsamp)"
   ]
  },
  {
   "cell_type": "code",
   "execution_count": 24,
   "id": "2d7ee31f",
   "metadata": {},
   "outputs": [],
   "source": [
    "\" Step 3: Compute Test Statistics by Bootstrap Sample (or subsample) \"\n",
    "# Calculating D by bootstrap samples\n",
    "D_b_12 = CDF(btspsample1, grid, s) - CDF(btspsample2, grid, s)\n",
    "D_b_21 = CDF(btspsample2, grid, s) - CDF(btspsample1, grid, s)\n",
    "D_b_23 = CDF(btspsample2, grid, s) - CDF(btspsample3, grid, s)\n",
    "D_b_32 = CDF(btspsample3, grid, s) - CDF(btspsample2, grid, s)\n",
    "D_b_13 = CDF(btspsample1, grid, s) - CDF(btspsample3, grid, s)\n",
    "D_b_31 = CDF(btspsample3, grid, s) - CDF(btspsample1, grid, s)\n",
    "            \n",
    "# Calculating Test Stat by bootstrap samples\n",
    "D_b_collection = [D_b_12,D_b_21, D_b_23, D_b_32, D_b_13, D_b_31]\n",
    "D_b_recentered = np.array(D_b_collection) - np.array(D_collection)\n",
    "resampled_stat = np.sqrt(N) * np.min(np.max(D_b_recentered,1),0)"
   ]
  },
  {
   "cell_type": "code",
   "execution_count": 25,
   "id": "43881133",
   "metadata": {},
   "outputs": [],
   "source": [
    "\" Step 4: Compute the Critical Value of the Bootstrap Distribution \"\n",
    "# Critical value and P-value (alpha = 0.05)\n",
    "alpha = 0.05\n",
    "critical_value = np.quantile(resampled_stat, 1 - alpha)\n",
    "pval = (resampled_stat >= test_stat).mean(0)"
   ]
  },
  {
   "cell_type": "code",
   "execution_count": 29,
   "id": "804a3f3c",
   "metadata": {},
   "outputs": [
    {
     "name": "stdout",
     "output_type": "stream",
     "text": [
      "Test Statistic:    0.791\n",
      "Critical value:    0.506\n",
      "P-value:           0.000\n"
     ]
    }
   ],
   "source": [
    "\" Step 5: Reject H0 if Test stat > Critical Value \"\n",
    "print(\"Test Statistic:   %6.3f\" %  test_stat)\n",
    "print(\"Critical value:   %6.3f\" % critical_value)\n",
    "print(\"P-value:          %6.3f\" % pval)"
   ]
  },
  {
   "cell_type": "code",
   "execution_count": null,
   "id": "eac7bcc5",
   "metadata": {},
   "outputs": [],
   "source": []
  }
 ],
 "metadata": {
  "kernelspec": {
   "display_name": "Python 3 (ipykernel)",
   "language": "python",
   "name": "python3"
  },
  "language_info": {
   "codemirror_mode": {
    "name": "ipython",
    "version": 3
   },
   "file_extension": ".py",
   "mimetype": "text/x-python",
   "name": "python",
   "nbconvert_exporter": "python",
   "pygments_lexer": "ipython3",
   "version": "3.11.8"
  }
 },
 "nbformat": 4,
 "nbformat_minor": 5
}
