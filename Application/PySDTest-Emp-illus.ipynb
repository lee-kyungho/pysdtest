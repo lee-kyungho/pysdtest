{
 "cells": [
  {
   "cell_type": "code",
   "execution_count": 1,
   "id": "f95908aa",
   "metadata": {},
   "outputs": [],
   "source": [
    "\"\"\" import modules \"\"\"\n",
    "\n",
    "import pandas as pd\n",
    "import numpy as np\n",
    "import pysdtest\n",
    "import matplotlib.pyplot as plt\n",
    "\n",
    "\"\"\" Descriptive Analysis \"\"\"\n",
    "\n",
    "BTC_daily_rr  = pd.read_excel(\"BTC_daily_rr.xlsx\")\n",
    "sp_daily_rr   = pd.read_excel(\"sp_daily_rr.xlsx\")\n",
    "\n",
    "BTC_daily_rr.describe()\n",
    "sp_daily_rr.describe()\n",
    "\n",
    "# Datatype for tests should 1-dim numpy array\n",
    "BTC_daily_rr = np.array(BTC_daily_rr['d_ln_Close'])\n",
    "sp_daily_rr = np.array(sp_daily_rr['d_ln_Close'])"
   ]
  },
  {
   "cell_type": "code",
   "execution_count": 2,
   "id": "3a86304d",
   "metadata": {},
   "outputs": [
    {
     "data": {
      "image/png": "[encoded data removed]",
      "text/plain": [
       "<Figure size 640x480 with 1 Axes>"
      ]
     },
     "metadata": {},
     "output_type": "display_data"
    }
   ],
   "source": [
    "\"\"\" Plotting \"\"\"\n",
    "\n",
    "# Plotting D\n",
    "crypto_testing_ct_1 = pysdtest.test_sd(BTC_daily_rr, sp_daily_rr, ngrid = 100, s=  1, b1 = 1000, b2 = 900, resampling =  'subsampling')\n",
    "crypto_testing_ct_1.plot_CDF(save=True, title=\"CDFs of Bitcoin and S&P Index.png\",label1=\"Bitcoin\",label2=\"S&P 500\", xlabel = \"Daily Return\")"
   ]
  },
  {
   "cell_type": "code",
   "execution_count": 3,
   "id": "716e5d07",
   "metadata": {},
   "outputs": [
    {
     "name": "stdout",
     "output_type": "stream",
     "text": [
      "#-------------------------------------------#\n",
      "\n",
      "Testing for Stochastic Dominance \n",
      "* H0 : sample1  first order SD sample2\n",
      "\n",
      "#-------------------------------------------#\n",
      "\n",
      "*** Test Setting ***\n",
      "* Resampling method \t = subsampling\n",
      "* SD order       \t =      1\n",
      "* # of (sample1) \t =   2861 \n",
      "* # of (sample2)   \t =   1995\n",
      "* # of (subsampling1) \t =   1000\n",
      "* # of (subsampling2) \t =    900\n",
      "\n",
      "#-------------------------------------------#\n",
      "\n",
      "*** Test Result ***\n",
      "* Test statistic \t = 6.1859\n",
      "* Significance level \t =  0.05\n",
      "* Critical-value \t = 4.0054\n",
      "* P-value        \t = 0.0000\n",
      "\n",
      "#-------------------------------------------#\n",
      "\n",
      "* Time elapsed :  5.37 Sec\n",
      "#-------------------------------------------#\n",
      "\n",
      "Testing for Stochastic Dominance \n",
      "* H0 : sample1  second order SD sample2\n",
      "\n",
      "#-------------------------------------------#\n",
      "\n",
      "*** Test Setting ***\n",
      "* Resampling method \t = subsampling\n",
      "* SD order       \t =      2\n",
      "* # of (sample1) \t =   2861 \n",
      "* # of (sample2)   \t =   1995\n",
      "* # of (subsampling1) \t =   1000\n",
      "* # of (subsampling2) \t =    900\n",
      "\n",
      "#-------------------------------------------#\n",
      "\n",
      "*** Test Result ***\n",
      "* Test statistic \t = 0.3177\n",
      "* Significance level \t =  0.05\n",
      "* Critical-value \t = 0.2147\n",
      "* P-value        \t = 0.0000\n",
      "\n",
      "#-------------------------------------------#\n",
      "\n",
      "* Time elapsed :  5.35 Sec\n"
     ]
    }
   ],
   "source": [
    "\"\"\" Testing H0: BTC >= S&P500 \"\"\"\n",
    "\n",
    "# First order\n",
    "\n",
    "crypto_testing_1 = pysdtest.test_sd(BTC_daily_rr, sp_daily_rr, ngrid = 100, s=  1, b1 = 1000, b2 = 900, resampling =  'subsampling')\n",
    "crypto_testing_1.testing()\n",
    "\n",
    "# Second order\n",
    "\n",
    "crypto_testing_2 = pysdtest.test_sd(BTC_daily_rr, sp_daily_rr, ngrid = 100, s= 2, b1 = 1000, b2 = 900, resampling = 'subsampling')\n",
    "crypto_testing_2.testing()"
   ]
  },
  {
   "cell_type": "code",
   "execution_count": 4,
   "id": "09980a4b",
   "metadata": {},
   "outputs": [
    {
     "name": "stdout",
     "output_type": "stream",
     "text": [
      "#-------------------------------------------#\n",
      "\n",
      "Testing for Stochastic Dominance \n",
      "* H0 : sample1  first order SD sample2\n",
      "\n",
      "#-------------------------------------------#\n",
      "\n",
      "*** Test Setting ***\n",
      "* Resampling method \t = subsampling\n",
      "* SD order       \t =      1\n",
      "* # of (sample1) \t =   1995 \n",
      "* # of (sample2)   \t =   2861\n",
      "* # of (subsampling1) \t =    900\n",
      "* # of (subsampling2) \t =   1000\n",
      "\n",
      "#-------------------------------------------#\n",
      "\n",
      "*** Test Result ***\n",
      "* Test statistic \t = 8.2384\n",
      "* Significance level \t =  0.05\n",
      "* Critical-value \t = 6.7111\n",
      "* P-value        \t = 0.0000\n",
      "\n",
      "#-------------------------------------------#\n",
      "\n",
      "* Time elapsed :  5.26 Sec\n",
      "#-------------------------------------------#\n",
      "\n",
      "Testing for Stochastic Dominance \n",
      "* H0 : sample1  second order SD sample2\n",
      "\n",
      "#-------------------------------------------#\n",
      "\n",
      "*** Test Setting ***\n",
      "* Resampling method \t = subsampling\n",
      "* SD order       \t =      2\n",
      "* # of (sample1) \t =   1995 \n",
      "* # of (sample2)   \t =   2861\n",
      "* # of (subsampling1) \t =    900\n",
      "* # of (subsampling2) \t =   1000\n",
      "\n",
      "#-------------------------------------------#\n",
      "\n",
      "*** Test Result ***\n",
      "* Test statistic \t = 0.0541\n",
      "* Significance level \t =  0.05\n",
      "* Critical-value \t = 0.0783\n",
      "* P-value        \t = 0.3349\n",
      "\n",
      "#-------------------------------------------#\n",
      "\n",
      "* Time elapsed :  5.34 Sec\n"
     ]
    }
   ],
   "source": [
    "\"\"\" Switching samples \n",
    "\n",
    "Testing H0 : S&P500  >= BTC\n",
    "\n",
    "\"\"\"\n",
    "# First order\n",
    "\n",
    "crypto_testing_sw_1 = pysdtest.test_sd(sp_daily_rr, BTC_daily_rr, ngrid = 100, s = 1, b1 = 900, b2 = 1000, resampling = 'subsampling')\n",
    "crypto_testing_sw_1.testing()\n",
    "\n",
    "# Second order\n",
    "\n",
    "crypto_testing_sw_2 = pysdtest.test_sd(sp_daily_rr, BTC_daily_rr, ngrid = 100, s= 2, b1 = 900, b2 = 1000, resampling = 'subsampling')\n",
    "crypto_testing_sw_2.testing()"
   ]
  },
  {
   "cell_type": "code",
   "execution_count": null,
   "id": "790b5346",
   "metadata": {},
   "outputs": [],
   "source": []
  }
 ],
 "metadata": {
  "kernelspec": {
   "display_name": "Python 3 (ipykernel)",
   "language": "python",
   "name": "python3"
  },
  "language_info": {
   "codemirror_mode": {
    "name": "ipython",
    "version": 3
   },
   "file_extension": ".py",
   "mimetype": "text/x-python",
   "name": "python",
   "nbconvert_exporter": "python",
   "pygments_lexer": "ipython3",
   "version": "3.11.8"
  }
 },
 "nbformat": 4,
 "nbformat_minor": 5
}
